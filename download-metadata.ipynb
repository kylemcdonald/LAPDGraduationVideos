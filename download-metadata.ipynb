{
 "cells": [
  {
   "attachments": {},
   "cell_type": "markdown",
   "metadata": {},
   "source": [
    "```\n",
    "conda create -y -n scraping python=3.8\n",
    "conda activate scraping\n",
    "pip install requests yt-dlp ffmpeg-python\n",
    "```"
   ]
  },
  {
   "cell_type": "code",
   "execution_count": 1,
   "metadata": {},
   "outputs": [
    {
     "name": "stdout",
     "output_type": "stream",
     "text": [
      "Requesting page 1\n",
      "Added: 97 videos for 0 total\n",
      "Requesting page 2\n",
      "Added: 98 videos for 97 total\n",
      "Requesting page 3\n",
      "Added: 98 videos for 195 total\n",
      "Requesting page 4\n",
      "Added: 85 videos for 293 total\n",
      "Requesting page 5\n",
      "Added: 95 videos for 378 total\n",
      "Requesting page 6\n",
      "Added: 100 videos for 473 total\n",
      "Requesting page 7\n",
      "Added: 100 videos for 573 total\n",
      "Requesting page 8\n",
      "Added: 96 videos for 673 total\n",
      "Requesting page 9\n",
      "Added: 96 videos for 769 total\n",
      "Requesting page 10\n",
      "Added: 88 videos for 865 total\n",
      "Requesting page 11\n",
      "Added: 100 videos for 953 total\n",
      "Requesting page 12\n",
      "Added: 96 videos for 1053 total\n",
      "Requesting page 13\n",
      "Added: 100 videos for 1149 total\n",
      "Requesting page 14\n",
      "Added: 100 videos for 1249 total\n",
      "Requesting page 15\n",
      "Added: 100 videos for 1349 total\n",
      "Requesting page 16\n",
      "Added: 100 videos for 1449 total\n",
      "Requesting page 17\n",
      "Added: 77 videos for 1549 total\n",
      "Requesting page 18\n",
      "Finished: code 400\n"
     ]
    }
   ],
   "source": [
    "import requests\n",
    "\n",
    "access_token = open('.access_token').read()\n",
    "\n",
    "headers = {\"Authorization\": f\"Bearer {access_token}\"}\n",
    "page = 1\n",
    "all_videos = []\n",
    "while True:\n",
    "    print('Requesting page', page)\n",
    "    response = requests.get(\n",
    "        f\"https://api.vimeo.com/users/inboundfilmsproductions/videos?page={page}&per_page=100\", headers=headers)\n",
    "    if response.status_code != 200:\n",
    "        print('Finished: code', response.status_code)\n",
    "        break\n",
    "    videos = response.json()[\"data\"]\n",
    "    if not videos:\n",
    "        print('Finished: no more videos')\n",
    "        break\n",
    "    print(f'Added: {len(videos)} videos for {len(all_videos)} total')\n",
    "    all_videos.extend(videos)\n",
    "    page += 1"
   ]
  },
  {
   "cell_type": "code",
   "execution_count": 2,
   "metadata": {},
   "outputs": [],
   "source": [
    "import json\n",
    "with open('videos.json', 'w') as f:\n",
    "    json.dump(all_videos, f, indent=2)"
   ]
  },
  {
   "cell_type": "code",
   "execution_count": 3,
   "metadata": {},
   "outputs": [],
   "source": [
    "video_urls = []\n",
    "collected = []\n",
    "for video in sorted(all_videos, key=lambda e: e['duration']):\n",
    "    n = video['name'].lower()\n",
    "    if not ('police' in n or 'lapd' in n):\n",
    "        continue\n",
    "    video_urls.append(video[\"link\"])\n",
    "    collected.append({\n",
    "        'name': video['name'],\n",
    "        'duration': video['duration'],\n",
    "        'link': video['link'],\n",
    "        'thumbnail': video[\"pictures\"][\"sizes\"][-1][\"link\"],\n",
    "        'created_time': video['created_time'],\n",
    "        'modified_time': video['modified_time'],\n",
    "        'release_time': video['release_time'],\n",
    "    })"
   ]
  },
  {
   "cell_type": "code",
   "execution_count": 4,
   "metadata": {},
   "outputs": [],
   "source": [
    "import pandas as pd\n",
    "pd.DataFrame(collected).to_csv('lapd-videos.csv', index=False)\n",
    "with open('video-urls.txt', 'w') as f:\n",
    "    f.write('\\n'.join(video_urls))"
   ]
  },
  {
   "cell_type": "code",
   "execution_count": 5,
   "metadata": {},
   "outputs": [
    {
     "name": "stdout",
     "output_type": "stream",
     "text": [
      "[vimeo] Extracting URL: https://vimeo.com/820913028\n",
      "[vimeo] 820913028: Downloading webpage\n",
      "[vimeo] 820913028: Downloading JSON metadata\n",
      "[vimeo] 820913028: Downloading JSON metadata\n",
      "[vimeo] 820913028: Checking Original video URL\n",
      "[vimeo] 820913028: Downloading akfire_interconnect_quic m3u8 information\n",
      "[vimeo] 820913028: Downloading akfire_interconnect_quic m3u8 information\n",
      "[vimeo] 820913028: Downloading fastly_skyfire m3u8 information\n",
      "[vimeo] 820913028: Downloading fastly_skyfire m3u8 information\n",
      "[vimeo] 820913028: Downloading akfire_interconnect_quic MPD information\n",
      "[vimeo] 820913028: Downloading akfire_interconnect_quic MPD information\n",
      "[vimeo] 820913028: Downloading fastly_skyfire MPD information\n",
      "[vimeo] 820913028: Downloading fastly_skyfire MPD information\n",
      "[info] 820913028: Downloading 1 format(s): Original\n",
      "[info] 820913028: Downloading 1 time ranges: 0.0-10.0\n",
      "[download] Edwin Romero - LAPD Graduation [820913028].mp4 has already been downloaded\n",
      "\u001b[K[download] 100% of   29.51MiB\n",
      "[vimeo] Extracting URL: https://vimeo.com/786321915\n",
      "[vimeo] 786321915: Downloading webpage\n",
      "[vimeo] 786321915: Downloading JSON metadata\n",
      "[vimeo] 786321915: Downloading JSON metadata\n",
      "[vimeo] 786321915: Checking Original video URL\n",
      "^C\n",
      "\n",
      "ERROR: Interrupted by user\n"
     ]
    }
   ],
   "source": [
    "!mkdir -p videos && cd videos && yt-dlp --batch-file ../video-urls.txt --download-sections \"*0:00-0:10\""
   ]
  }
 ],
 "metadata": {
  "kernelspec": {
   "display_name": "scraping",
   "language": "python",
   "name": "python3"
  },
  "language_info": {
   "codemirror_mode": {
    "name": "ipython",
    "version": 3
   },
   "file_extension": ".py",
   "mimetype": "text/x-python",
   "name": "python",
   "nbconvert_exporter": "python",
   "pygments_lexer": "ipython3",
   "version": "3.8.16"
  },
  "orig_nbformat": 4
 },
 "nbformat": 4,
 "nbformat_minor": 2
}
